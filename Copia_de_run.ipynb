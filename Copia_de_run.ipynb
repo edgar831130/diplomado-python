{
  "nbformat": 4,
  "nbformat_minor": 0,
  "metadata": {
    "colab": {
      "name": "Copia de run.ipynb",
      "provenance": [],
      "include_colab_link": true
    },
    "kernelspec": {
      "name": "python3",
      "display_name": "Python 3"
    },
    "language_info": {
      "name": "python"
    }
  },
  "cells": [
    {
      "cell_type": "markdown",
      "metadata": {
        "id": "view-in-github",
        "colab_type": "text"
      },
      "source": [
        "<a href=\"https://colab.research.google.com/github/edgar831130/diplomado-python/blob/master/Copia_de_run.ipynb\" target=\"_parent\"><img src=\"https://colab.research.google.com/assets/colab-badge.svg\" alt=\"Open In Colab\"/></a>"
      ]
    },
    {
      "cell_type": "code",
      "metadata": {
        "id": "bcwUBWFqRTYR",
        "colab": {
          "base_uri": "https://localhost:8080/"
        },
        "outputId": "84c9fe2d-9632-4491-adc5-03d319620cdc"
      },
      "source": [
        "2*2\n",
        "print('hola')\n",
        "3+3"
      ],
      "execution_count": null,
      "outputs": [
        {
          "output_type": "stream",
          "text": [
            "hola\n"
          ],
          "name": "stdout"
        },
        {
          "output_type": "execute_result",
          "data": {
            "text/plain": [
              "6"
            ]
          },
          "metadata": {
            "tags": []
          },
          "execution_count": 4
        }
      ]
    },
    {
      "cell_type": "code",
      "metadata": {
        "id": "pHTu0LRFILjI"
      },
      "source": [
        ""
      ],
      "execution_count": null,
      "outputs": []
    },
    {
      "cell_type": "code",
      "metadata": {
        "id": "WLYk-WqE7JP4",
        "colab": {
          "base_uri": "https://localhost:8080/",
          "height": 130
        },
        "outputId": "c27784e9-defa-469a-9c06-c9b07c805246"
      },
      "source": [
        "def suma (a + b):\n",
        "    return a + b\n",
        "\n",
        "   print 9 + 7\n",
        " \n"
      ],
      "execution_count": 24,
      "outputs": [
        {
          "output_type": "error",
          "ename": "SyntaxError",
          "evalue": "ignored",
          "traceback": [
            "\u001b[0;36m  File \u001b[0;32m\"<ipython-input-24-0429fb20f34a>\"\u001b[0;36m, line \u001b[0;32m1\u001b[0m\n\u001b[0;31m    def suma (a + b):\u001b[0m\n\u001b[0m                ^\u001b[0m\n\u001b[0;31mSyntaxError\u001b[0m\u001b[0;31m:\u001b[0m invalid syntax\n"
          ]
        }
      ]
    },
    {
      "cell_type": "code",
      "metadata": {
        "id": "jrtlkYjR7iQY"
      },
      "source": [
        "# definir la funcion\n",
        "def obtener_valor_futuro(valor_presente, tasa_interes, tiempo):\n",
        "    return valor_presente * tasa_interes * tiempo\n",
        "    "
      ],
      "execution_count": null,
      "outputs": []
    },
    {
      "cell_type": "code",
      "metadata": {
        "id": "hrKRIlG18MSA",
        "colab": {
          "base_uri": "https://localhost:8080/",
          "height": 130
        },
        "outputId": "30e4bb69-2273-41cc-880d-07cd5245c5be"
      },
      "source": [
        "# hacer uso de la funcion\n",
        "valor_presente = 500000\n",
        "tasa_interes = 1.5\n",
        "tiempo = 6\n",
        "\n",
        "# valor_futuro = (obtener_valor_futuro(valor_presente , tasa_interes , tiempo)\n",
        "\n",
        "\n",
        "  print  (valor_futuro)\n",
        "\n"
      ],
      "execution_count": 33,
      "outputs": [
        {
          "output_type": "error",
          "ename": "IndentationError",
          "evalue": "ignored",
          "traceback": [
            "\u001b[0;36m  File \u001b[0;32m\"<ipython-input-33-f7972875268e>\"\u001b[0;36m, line \u001b[0;32m9\u001b[0m\n\u001b[0;31m    print  (valor_futuro)\u001b[0m\n\u001b[0m    ^\u001b[0m\n\u001b[0;31mIndentationError\u001b[0m\u001b[0;31m:\u001b[0m unexpected indent\n"
          ]
        }
      ]
    },
    {
      "cell_type": "code",
      "metadata": {
        "colab": {
          "base_uri": "https://localhost:8080/"
        },
        "id": "dS9kyzuJINgy",
        "outputId": "38ac0372-1787-45b7-bde7-fb826a65370b"
      },
      "source": [
        "my_list = (\"jasmin\", \"edgar\", \"yurley\", \"fabian\")\n",
        "\n",
        "\n",
        "for i in my_list:\n",
        "   print (my_list)"
      ],
      "execution_count": 36,
      "outputs": [
        {
          "output_type": "stream",
          "text": [
            "('jasmin', 'edgar', 'yurley', 'fabian')\n",
            "('jasmin', 'edgar', 'yurley', 'fabian')\n",
            "('jasmin', 'edgar', 'yurley', 'fabian')\n",
            "('jasmin', 'edgar', 'yurley', 'fabian')\n"
          ],
          "name": "stdout"
        }
      ]
    },
    {
      "cell_type": "code",
      "metadata": {
        "id": "HVEm5s9_L4Xh"
      },
      "source": [
        "the dictionari"
      ],
      "execution_count": null,
      "outputs": []
    }
  ]
}